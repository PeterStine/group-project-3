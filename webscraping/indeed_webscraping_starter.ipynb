{
 "cells": [
  {
   "cell_type": "code",
   "execution_count": 11,
   "id": "1043318b",
   "metadata": {},
   "outputs": [],
   "source": [
    "# Import splinter\n",
    "from splinter import Browser\n",
    "from selenium.webdriver.common.keys import Keys\n",
    "import time"
   ]
  },
  {
   "cell_type": "code",
   "execution_count": 12,
   "id": "e3da61ce",
   "metadata": {},
   "outputs": [],
   "source": [
    "# Create browser object\n",
    "browser = Browser('chrome')"
   ]
  },
  {
   "cell_type": "code",
   "execution_count": 13,
   "id": "52db4a81",
   "metadata": {},
   "outputs": [],
   "source": [
    "# Open Indeed\n",
    "url = \"https://www.indeed.com/\"\n",
    "browser.visit(url)"
   ]
  },
  {
   "cell_type": "code",
   "execution_count": 14,
   "id": "5a2debf2",
   "metadata": {},
   "outputs": [
    {
     "data": {
      "text/plain": [
       "'https://www.indeed.com'"
      ]
     },
     "execution_count": 14,
     "metadata": {},
     "output_type": "execute_result"
    }
   ],
   "source": [
    "url[:-1]"
   ]
  },
  {
   "cell_type": "code",
   "execution_count": 15,
   "id": "070f1d3e",
   "metadata": {},
   "outputs": [],
   "source": [
    "data = []"
   ]
  },
  {
   "cell_type": "code",
   "execution_count": 16,
   "id": "facb59c4",
   "metadata": {},
   "outputs": [],
   "source": [
    "def indeed_scraper(data, search_params, browser):\n",
    "    base_url = url[:-1]\n",
    "    # Find the what box & search the job title\n",
    "    what = browser.find_by_id(\"text-input-what\").first\n",
    "    what.fill(search_params[\"what\"])\n",
    "    \n",
    "    # Find the where box & search for the location\n",
    "    where = browser.find_by_id(\"text-input-where\").first\n",
    "    where.type(Keys.CONTROL + \"a\")\n",
    "    where.type(Keys.BACKSPACE)\n",
    "    where.fill(search_params[\"where\"])\n",
    "    \n",
    "    where.type(Keys.RETURN)\n",
    "    \n",
    "    time.sleep(0.5)\n",
    "    \n",
    "    date_posted = browser.find_by_text(\"Date posted\").first\n",
    "    date_posted.click()\n",
    "    \n",
    "    time.sleep(0.1)\n",
    "    \n",
    "    last_24_hours = browser.find_by_text(\"Last 24 hours\").first\n",
    "    last_24_hours.click()\n",
    "    \n",
    "    last_page = False\n",
    "    \n",
    "    while not last_page:\n",
    "        try:\n",
    "            next_page_button = browser.find_by_css(\"[aria-label='Next Page']\")\n",
    "        except:\n",
    "            last_page = True\n",
    "        \n",
    "        # Job Title\n",
    "        posts_in_page = browser.find_by_css(\".jobsearch-ResultsList\")\n",
    "        \n",
    "        for post in posts_in_page:\n",
    "            # Initialize 1D array to store this post's data\n",
    "            post_data = []\n",
    "            \n",
    "            # Grab job id\n",
    "            job_id = post.find_by_css(\"a\").first[\"data-jk\"]\n",
    "            post_data.append(job_id)\n",
    "            \n",
    "            # Grab job title\n",
    "            title = post.find_by_css(\"span\").first.text\n",
    "            post_data.append(title)\n",
    "            \n",
    "            # Grab company\n",
    "            \n",
    "            # Grab location\n",
    "            \n",
    "            # Grab job type (if available)\n",
    "            try:\n",
    "                job_type = post.find_by_css(\"[aria-label='Job type']\")\n",
    "                post_data.append(job_type)\n",
    "            except:\n",
    "                post_data.append(None)\n",
    "                \n",
    "            # Grab salary (if available)\n",
    "            \n",
    "            \n",
    "            \n",
    "            # Grab job url\n",
    "            job_url = base_url + post.find_by_css(\"a\").first[href]\n",
    "            post_data.append(job_url)\n",
    "            \n",
    "            \n",
    "            data.append(post_data)\n",
    "        \n",
    "        time.sleep(3)\n",
    "    return data"
   ]
  },
  {
   "cell_type": "code",
   "execution_count": 19,
   "id": "2d0a6ce7",
   "metadata": {},
   "outputs": [
    {
     "ename": "ElementDoesNotExist",
     "evalue": "no elements could be found with text \"Date posted\"",
     "output_type": "error",
     "traceback": [
      "\u001b[1;31m---------------------------------------------------------------------------\u001b[0m",
      "\u001b[1;31mIndexError\u001b[0m                                Traceback (most recent call last)",
      "File \u001b[1;32mc:\\anaconda3\\lib\\site-packages\\splinter\\element_list.py:40\u001b[0m, in \u001b[0;36mElementList.__getitem__\u001b[1;34m(self, index)\u001b[0m\n\u001b[0;32m     39\u001b[0m \u001b[39mtry\u001b[39;00m:\n\u001b[1;32m---> 40\u001b[0m     \u001b[39mreturn\u001b[39;00m \u001b[39mself\u001b[39;49m\u001b[39m.\u001b[39;49m_container[index]\n\u001b[0;32m     41\u001b[0m \u001b[39mexcept\u001b[39;00m \u001b[39mIndexError\u001b[39;00m:\n",
      "\u001b[1;31mIndexError\u001b[0m: list index out of range",
      "\nDuring handling of the above exception, another exception occurred:\n",
      "\u001b[1;31mElementDoesNotExist\u001b[0m                       Traceback (most recent call last)",
      "Cell \u001b[1;32mIn[19], line 2\u001b[0m\n\u001b[0;32m      1\u001b[0m search_params \u001b[39m=\u001b[39m {\u001b[39m\"\u001b[39m\u001b[39mwhat\u001b[39m\u001b[39m\"\u001b[39m: \u001b[39m\"\u001b[39m\u001b[39mData Scientist\u001b[39m\u001b[39m\"\u001b[39m, \u001b[39m\"\u001b[39m\u001b[39mwhere\u001b[39m\u001b[39m\"\u001b[39m: \u001b[39m\"\u001b[39m\u001b[39mUnited States\u001b[39m\u001b[39m\"\u001b[39m}\n\u001b[1;32m----> 2\u001b[0m indeed_scraper(data, search_params, browser)\n",
      "Cell \u001b[1;32mIn[16], line 17\u001b[0m, in \u001b[0;36mindeed_scraper\u001b[1;34m(data, search_params, browser)\u001b[0m\n\u001b[0;32m     13\u001b[0m where\u001b[39m.\u001b[39mtype(Keys\u001b[39m.\u001b[39mRETURN)\n\u001b[0;32m     15\u001b[0m time\u001b[39m.\u001b[39msleep(\u001b[39m0.5\u001b[39m)\n\u001b[1;32m---> 17\u001b[0m date_posted \u001b[39m=\u001b[39m browser\u001b[39m.\u001b[39;49mfind_by_text(\u001b[39m\"\u001b[39;49m\u001b[39mDate posted\u001b[39;49m\u001b[39m\"\u001b[39;49m)\u001b[39m.\u001b[39;49mfirst\n\u001b[0;32m     18\u001b[0m date_posted\u001b[39m.\u001b[39mclick()\n\u001b[0;32m     20\u001b[0m time\u001b[39m.\u001b[39msleep(\u001b[39m0.1\u001b[39m)\n",
      "File \u001b[1;32mc:\\anaconda3\\lib\\site-packages\\splinter\\element_list.py:56\u001b[0m, in \u001b[0;36mElementList.first\u001b[1;34m(self)\u001b[0m\n\u001b[0;32m     48\u001b[0m \u001b[39m@property\u001b[39m\n\u001b[0;32m     49\u001b[0m \u001b[39mdef\u001b[39;00m \u001b[39mfirst\u001b[39m(\u001b[39mself\u001b[39m):\n\u001b[0;32m     50\u001b[0m     \u001b[39m\"\"\"An alias to the first element of the list.\u001b[39;00m\n\u001b[0;32m     51\u001b[0m \n\u001b[0;32m     52\u001b[0m \u001b[39m    Example:\u001b[39;00m\n\u001b[0;32m     53\u001b[0m \n\u001b[0;32m     54\u001b[0m \u001b[39m        >>> assert element_list[0] == element_list.first\u001b[39;00m\n\u001b[0;32m     55\u001b[0m \u001b[39m    \"\"\"\u001b[39;00m\n\u001b[1;32m---> 56\u001b[0m     \u001b[39mreturn\u001b[39;00m \u001b[39mself\u001b[39;49m[\u001b[39m0\u001b[39;49m]\n",
      "File \u001b[1;32mc:\\anaconda3\\lib\\site-packages\\splinter\\element_list.py:42\u001b[0m, in \u001b[0;36mElementList.__getitem__\u001b[1;34m(self, index)\u001b[0m\n\u001b[0;32m     40\u001b[0m     \u001b[39mreturn\u001b[39;00m \u001b[39mself\u001b[39m\u001b[39m.\u001b[39m_container[index]\n\u001b[0;32m     41\u001b[0m \u001b[39mexcept\u001b[39;00m \u001b[39mIndexError\u001b[39;00m:\n\u001b[1;32m---> 42\u001b[0m     \u001b[39mraise\u001b[39;00m ElementDoesNotExist(\n\u001b[0;32m     43\u001b[0m         \u001b[39mu\u001b[39m\u001b[39m'\u001b[39m\u001b[39mno elements could be found with \u001b[39m\u001b[39m{0}\u001b[39;00m\u001b[39m \u001b[39m\u001b[39m\"\u001b[39m\u001b[39m{1}\u001b[39;00m\u001b[39m\"\u001b[39m\u001b[39m'\u001b[39m\u001b[39m.\u001b[39mformat(\n\u001b[0;32m     44\u001b[0m             \u001b[39mself\u001b[39m\u001b[39m.\u001b[39mfind_by, \u001b[39mself\u001b[39m\u001b[39m.\u001b[39mquery\n\u001b[0;32m     45\u001b[0m         )\n\u001b[0;32m     46\u001b[0m     )\n",
      "\u001b[1;31mElementDoesNotExist\u001b[0m: no elements could be found with text \"Date posted\""
     ]
    }
   ],
   "source": [
    "search_params = {\"what\": \"Data Scientist\", \"where\": \"United States\"}\n",
    "indeed_scraper(data, search_params, browser)"
   ]
  },
  {
   "cell_type": "code",
   "execution_count": 153,
   "id": "3d78429a",
   "metadata": {},
   "outputs": [],
   "source": [
    "# Job title, Company, Location, Salary, Employment Type\n",
    "posts_in_page = browser.find_by_css(\".jobsearch-ResultsList\")"
   ]
  },
  {
   "cell_type": "code",
   "execution_count": 150,
   "id": "6ba4e6db",
   "metadata": {},
   "outputs": [
    {
     "data": {
      "text/plain": [
       "'HR Data Scientist - HRIS Brooklyn Heights'"
      ]
     },
     "execution_count": 150,
     "metadata": {},
     "output_type": "execute_result"
    }
   ],
   "source": [
    "posts_in_page[0].find_by_css(\"span\").first.text"
   ]
  },
  {
   "cell_type": "code",
   "execution_count": 158,
   "id": "342de828",
   "metadata": {},
   "outputs": [
    {
     "data": {
      "text/plain": [
       "'1664a040deb7c536'"
      ]
     },
     "execution_count": 158,
     "metadata": {},
     "output_type": "execute_result"
    }
   ],
   "source": [
    "posts_in_page[0].find_by_css(\"a\").first[\"data-jk\"]"
   ]
  },
  {
   "cell_type": "code",
   "execution_count": 160,
   "id": "73c85d8d",
   "metadata": {},
   "outputs": [
    {
     "data": {
      "text/plain": [
       "[None]"
      ]
     },
     "execution_count": 160,
     "metadata": {},
     "output_type": "execute_result"
    }
   ],
   "source": [
    "[None]"
   ]
  },
  {
   "cell_type": "code",
   "execution_count": null,
   "id": "a4302fd9",
   "metadata": {},
   "outputs": [],
   "source": []
  }
 ],
 "metadata": {
  "kernelspec": {
   "display_name": "Python 3 (ipykernel)",
   "language": "python",
   "name": "python3"
  },
  "language_info": {
   "codemirror_mode": {
    "name": "ipython",
    "version": 3
   },
   "file_extension": ".py",
   "mimetype": "text/x-python",
   "name": "python",
   "nbconvert_exporter": "python",
   "pygments_lexer": "ipython3",
   "version": "3.10.9"
  }
 },
 "nbformat": 4,
 "nbformat_minor": 5
}
