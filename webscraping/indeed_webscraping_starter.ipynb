{
 "cells": [
  {
   "cell_type": "code",
   "execution_count": 51,
   "id": "1043318b",
   "metadata": {},
   "outputs": [],
   "source": [
    "# Import splinter\n",
    "from splinter import Browser\n",
    "from selenium.webdriver.common.keys import Keys\n",
    "import time"
   ]
  },
  {
   "cell_type": "code",
   "execution_count": 29,
   "id": "e3da61ce",
   "metadata": {},
   "outputs": [],
   "source": [
    "# Create browser object\n",
    "browser = Browser('chrome')"
   ]
  },
  {
   "cell_type": "code",
   "execution_count": 106,
   "id": "52db4a81",
   "metadata": {},
   "outputs": [],
   "source": [
    "# Open Indeed\n",
    "url = \"https://www.indeed.com/\"\n",
    "browser.visit(url)"
   ]
  },
  {
   "cell_type": "code",
   "execution_count": 159,
   "id": "5a2debf2",
   "metadata": {},
   "outputs": [
    {
     "data": {
      "text/plain": [
       "'https://www.indeed.com'"
      ]
     },
     "execution_count": 159,
     "metadata": {},
     "output_type": "execute_result"
    }
   ],
   "source": [
    "url[:-1]"
   ]
  },
  {
   "cell_type": "code",
   "execution_count": 149,
   "id": "070f1d3e",
   "metadata": {},
   "outputs": [],
   "source": [
    "data = []"
   ]
  },
  {
   "cell_type": "code",
   "execution_count": 81,
   "id": "facb59c4",
   "metadata": {},
   "outputs": [],
   "source": [
    "def indeed_scraper(data, search_params, browser):\n",
    "    base_url = url[:-1]\n",
    "    # Find the what box & search the job title\n",
    "    what = browser.find_by_id(\"text-input-what\").first\n",
    "    what.fill(search_params[\"what\"])\n",
    "    \n",
    "    # Find the where box & search for the location\n",
    "    where = browser.find_by_id(\"text-input-where\").first\n",
    "    where.type(Keys.CONTROL + \"a\")\n",
    "    where.type(Keys.BACKSPACE)\n",
    "    where.fill(search_params[\"where\"])\n",
    "    \n",
    "    where.type(Keys.RETURN)\n",
    "    \n",
    "    time.sleep(0.5)\n",
    "    \n",
    "    date_posted = browser.find_by_text(\"Date posted\").first\n",
    "    date_posted.click()\n",
    "    \n",
    "    time.sleep(0.1)\n",
    "    \n",
    "    last_24_hours = browser.find_by_text(\"Last 24 hours\").first\n",
    "    last_24_hours.click()\n",
    "    \n",
    "    last_page = False\n",
    "    \n",
    "    while not last_page:\n",
    "        try:\n",
    "            next_page_button = browser.find_by_css(\"[aria-label='Next Page']\")\n",
    "        except:\n",
    "            last_page = True\n",
    "        \n",
    "        # Job Title\n",
    "        posts_in_page = browser.find_by_css(\".jobsearch-ResultsList\")\n",
    "        \n",
    "        for post in posts_in_page:\n",
    "            # Initialize 1D array to store this post's data\n",
    "            post_data = []\n",
    "            \n",
    "            # Grab job id\n",
    "            job_id = post.find_by_css(\"a\").first[\"data-jk\"]\n",
    "            post_data.append(job_id)\n",
    "            \n",
    "            # Grab job title\n",
    "            title = post.find_by_css(\"span\").first.text\n",
    "            post_data.append(title)\n",
    "            \n",
    "            # Grab company\n",
    "            \n",
    "            # Grab location\n",
    "            \n",
    "            # Grab job type (if available)\n",
    "            try:\n",
    "                job_type = post.find_by_css(\"[aria-label='Job type']\")\n",
    "                post_data.append(job_type)\n",
    "            except:\n",
    "                post_data.append(None)\n",
    "                \n",
    "            # Grab salary (if available)\n",
    "            \n",
    "            \n",
    "            \n",
    "            # Grab job url\n",
    "            job_url = base_url + post.find_by_css(\"a\").first[href]\n",
    "            post_data.append(job_url)\n",
    "            \n",
    "            \n",
    "            data.append(post_data)\n",
    "        \n",
    "        time.sleep(3)\n",
    "    return data"
   ]
  },
  {
   "cell_type": "code",
   "execution_count": 107,
   "id": "2d0a6ce7",
   "metadata": {},
   "outputs": [],
   "source": [
    "search_params = {\"what\": \"Data Scientist\", \"where\": \"United States\"}\n",
    "indeed_scraper(data, search_params, browser)"
   ]
  },
  {
   "cell_type": "code",
   "execution_count": 153,
   "id": "3d78429a",
   "metadata": {},
   "outputs": [],
   "source": [
    "# Job title, Company, Location, Salary, Employment Type\n",
    "posts_in_page = browser.find_by_css(\".jobsearch-ResultsList\")"
   ]
  },
  {
   "cell_type": "code",
   "execution_count": 150,
   "id": "6ba4e6db",
   "metadata": {},
   "outputs": [
    {
     "data": {
      "text/plain": [
       "'HR Data Scientist - HRIS Brooklyn Heights'"
      ]
     },
     "execution_count": 150,
     "metadata": {},
     "output_type": "execute_result"
    }
   ],
   "source": [
    "posts_in_page[0].find_by_css(\"span\").first.text"
   ]
  },
  {
   "cell_type": "code",
   "execution_count": 158,
   "id": "342de828",
   "metadata": {},
   "outputs": [
    {
     "data": {
      "text/plain": [
       "'1664a040deb7c536'"
      ]
     },
     "execution_count": 158,
     "metadata": {},
     "output_type": "execute_result"
    }
   ],
   "source": [
    "posts_in_page[0].find_by_css(\"a\").first[\"data-jk\"]"
   ]
  },
  {
   "cell_type": "code",
   "execution_count": 160,
   "id": "73c85d8d",
   "metadata": {},
   "outputs": [
    {
     "data": {
      "text/plain": [
       "[None]"
      ]
     },
     "execution_count": 160,
     "metadata": {},
     "output_type": "execute_result"
    }
   ],
   "source": [
    "[None]"
   ]
  },
  {
   "cell_type": "code",
   "execution_count": null,
   "id": "a4302fd9",
   "metadata": {},
   "outputs": [],
   "source": []
  }
 ],
 "metadata": {
  "kernelspec": {
   "display_name": "Python 3 (ipykernel)",
   "language": "python",
   "name": "python3"
  },
  "language_info": {
   "codemirror_mode": {
    "name": "ipython",
    "version": 3
   },
   "file_extension": ".py",
   "mimetype": "text/x-python",
   "name": "python",
   "nbconvert_exporter": "python",
   "pygments_lexer": "ipython3",
   "version": "3.10.10"
  }
 },
 "nbformat": 4,
 "nbformat_minor": 5
}
